{
 "cells": [
  {
   "cell_type": "markdown",
   "id": "d800ecfc-0621-425d-b63d-cc5d9fa7b219",
   "metadata": {},
   "source": [
    "# Skull Experiment"
   ]
  },
  {
   "cell_type": "code",
   "execution_count": null,
   "id": "1e23b897-e011-434d-b3df-9780ef6f67ae",
   "metadata": {},
   "outputs": [],
   "source": []
  }
 ],
 "metadata": {
  "kernelspec": {
   "display_name": "Python 3",
   "language": "python",
   "name": "python3"
  },
  "language_info": {
   "codemirror_mode": {
    "name": "ipython",
    "version": 3
   },
   "file_extension": ".py",
   "mimetype": "text/x-python",
   "name": "python",
   "nbconvert_exporter": "python",
   "pygments_lexer": "ipython3",
   "version": "3.8.8"
  }
 },
 "nbformat": 4,
 "nbformat_minor": 5
}
