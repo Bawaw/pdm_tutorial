{
 "cells": [
  {
   "cell_type": "markdown",
   "id": "cf9e3eeb-6f7c-4cb9-b212-ce8127ad2b4b",
   "metadata": {},
   "source": [
    "# Density Estimation"
   ]
  },
  {
   "cell_type": "code",
   "execution_count": null,
   "id": "4415fedd-a4ff-4cd4-9abe-d69537f0cd96",
   "metadata": {},
   "outputs": [],
   "source": []
  }
 ],
 "metadata": {
  "kernelspec": {
   "display_name": "Python 3",
   "language": "python",
   "name": "python3"
  },
  "language_info": {
   "codemirror_mode": {
    "name": "ipython",
    "version": 3
   },
   "file_extension": ".py",
   "mimetype": "text/x-python",
   "name": "python",
   "nbconvert_exporter": "python",
   "pygments_lexer": "ipython3",
   "version": "3.8.8"
  }
 },
 "nbformat": 4,
 "nbformat_minor": 5
}
