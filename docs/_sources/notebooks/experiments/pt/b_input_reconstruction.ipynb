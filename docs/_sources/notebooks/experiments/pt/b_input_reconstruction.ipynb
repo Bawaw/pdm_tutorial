{
 "cells": [
  {
   "cell_type": "markdown",
   "id": "e831e60a-7419-4c5f-8c4f-4955f67313f0",
   "metadata": {},
   "source": [
    "# Input Reconstruction"
   ]
  },
  {
   "cell_type": "code",
   "execution_count": null,
   "id": "f38ce4ce-9606-4ad1-9c5a-a83b2ba4207f",
   "metadata": {},
   "outputs": [],
   "source": []
  }
 ],
 "metadata": {
  "kernelspec": {
   "display_name": "Python 3",
   "language": "python",
   "name": "python3"
  },
  "language_info": {
   "codemirror_mode": {
    "name": "ipython",
    "version": 3
   },
   "file_extension": ".py",
   "mimetype": "text/x-python",
   "name": "python",
   "nbconvert_exporter": "python",
   "pygments_lexer": "ipython3",
   "version": "3.8.8"
  }
 },
 "nbformat": 4,
 "nbformat_minor": 5
}
