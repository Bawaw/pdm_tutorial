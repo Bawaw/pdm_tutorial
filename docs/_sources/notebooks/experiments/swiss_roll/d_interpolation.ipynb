{
 "cells": [
  {
   "cell_type": "markdown",
   "id": "66b3385f-f8c6-4c36-bb01-37c25884f656",
   "metadata": {},
   "source": [
    "# Interpolation"
   ]
  },
  {
   "cell_type": "code",
   "execution_count": null,
   "id": "634bbd0b-9f9d-4022-af68-5f0be340fc86",
   "metadata": {},
   "outputs": [],
   "source": []
  }
 ],
 "metadata": {
  "kernelspec": {
   "display_name": "Python 3",
   "language": "python",
   "name": "python3"
  },
  "language_info": {
   "codemirror_mode": {
    "name": "ipython",
    "version": 3
   },
   "file_extension": ".py",
   "mimetype": "text/x-python",
   "name": "python",
   "nbconvert_exporter": "python",
   "pygments_lexer": "ipython3",
   "version": "3.8.8"
  }
 },
 "nbformat": 4,
 "nbformat_minor": 5
}
