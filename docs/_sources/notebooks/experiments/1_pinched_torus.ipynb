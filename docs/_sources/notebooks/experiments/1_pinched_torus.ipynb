{
 "cells": [
  {
   "cell_type": "markdown",
   "metadata": {},
   "source": [
    "# Pinched Torus Experiment"
   ]
  },
  {
   "cell_type": "code",
   "execution_count": null,
   "metadata": {},
   "outputs": [],
   "source": [
    "import matplotlib.pyplot as plt\n",
    "import pyvista as pv\n",
    "import seaborn as sns\n",
    "from pdmtut.src.datasets import PinchedTorus"
   ]
  },
  {
   "cell_type": "code",
   "execution_count": null,
   "metadata": {},
   "outputs": [],
   "source": [
    "n_samples = 100**2"
   ]
  },
  {
   "cell_type": "code",
   "execution_count": 6,
   "metadata": {},
   "outputs": [
    {
     "data": {
      "application/vnd.jupyter.widget-view+json": {
       "model_id": "d267bf4a97f045d185621155f653d378",
       "version_major": 2,
       "version_minor": 0
      },
      "text/plain": [
       "Renderer(camera=PerspectiveCamera(children=(DirectionalLight(color='#fefefe', intensity=0.25, position=(0.0, 0…"
      ]
     },
     "metadata": {},
     "output_type": "display_data"
    }
   ],
   "source": [
    "# pv.set_plot_theme(\"document\")\n",
    "# pv.set_jupyter_backend('pythreejs')  \n",
    "\n",
    "# dataset = PinchedTorus(n_samples=n_samples)\n",
    "\n",
    "# plotter = pv.Plotter()\n",
    "# plotter.add_mesh(\n",
    "#     pv.PolyData(dataset.unnormalise(dataset.raw_data).numpy()),\n",
    "#     render_points_as_spheres=True, point_size=10,\n",
    "#     diffuse=0.99, specular=0.8, ambient=0.3, smooth_shading=True,\n",
    "#     #scalars = dataset.data_pdf\n",
    "#     style='points'\n",
    "#     )\n",
    "\n",
    "# plotter.add_scalar_bar('log likelihood')\n",
    "\n",
    "# plotter.camera_position = [(4.25, -4.25, 4.25), (0, 0, 0), (0, 0, 1)]\n",
    "# plotter.show_grid()\n",
    "# _=plotter.show(window_size=[800,800])\n",
    "\n",
    "\n"
   ]
  },
  {
   "cell_type": "code",
   "execution_count": null,
   "metadata": {},
   "outputs": [],
   "source": [
    "import time\n",
    "time.sleep(15)\n",
    "print('done')"
   ]
  },
  {
   "cell_type": "code",
   "execution_count": null,
   "metadata": {},
   "outputs": [],
   "source": []
  }
 ],
 "metadata": {
  "kernelspec": {
   "display_name": "Python 3",
   "language": "python",
   "name": "python3"
  },
  "language_info": {
   "codemirror_mode": {
    "name": "ipython",
    "version": 3
   },
   "file_extension": ".py",
   "mimetype": "text/x-python",
   "name": "python",
   "nbconvert_exporter": "python",
   "pygments_lexer": "ipython3",
   "version": "3.8.8"
  }
 },
 "nbformat": 4,
 "nbformat_minor": 4
}
